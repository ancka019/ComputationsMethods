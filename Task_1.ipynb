{
  "cells": [
    {
      "cell_type": "markdown",
      "metadata": {
        "id": "view-in-github",
        "colab_type": "text"
      },
      "source": [
        "<a href=\"https://colab.research.google.com/github/ancka019/ComputationsMethods/blob/main/Task_1.ipynb\" target=\"_parent\"><img src=\"https://colab.research.google.com/assets/colab-badge.svg\" alt=\"Open In Colab\"/></a>"
      ]
    },
    {
      "cell_type": "markdown",
      "metadata": {
        "id": "M1r1bhES5qzG"
      },
      "source": [
        "# Задание 1\n",
        "\n",
        "(**NB.** для запуска примеров кода нужен Python версии не ниже **3.10**, допускается использование других версий, в этом случае нужно самостоятельно избавиться от конструкции `match`).\n",
        "\n",
        "Есть следующий код для [автоматического дифференцирования](https://en.wikipedia.org/wiki/Automatic_differentiation), в котором используются особенности системы типов языка `Python`:"
      ]
    },
    {
      "cell_type": "code",
      "execution_count": null,
      "metadata": {
        "id": "dA8uii3P5qzJ"
      },
      "outputs": [],
      "source": [
        "from dataclasses import dataclass\n",
        "from typing import Union, Callable\n",
        "from numbers import Number\n",
        "\n",
        "\n",
        "@dataclass\n",
        "class Dual:\n",
        "    value: float\n",
        "    d: float\n",
        "\n",
        "    def __add__(self, other: Union[\"Dual\", Number]) -> \"Dual\":\n",
        "         match other:\n",
        "            case Dual(o_value, o_d):\n",
        "                return Dual(self.value + o_value, self.d + o_d)\n",
        "            case Number():\n",
        "                return Dual(float(other) + self.value, self.d)\n",
        "\n",
        "    def __mul__(self, other: Union[\"Dual\", Number]) -> \"Dual\":\n",
        "         match other:\n",
        "            case Dual(o_value, o_d):\n",
        "                return Dual(self.value * o_value, self.value * o_d + self.d * o_value)\n",
        "            case Number():\n",
        "                return Dual(float(other) * self.value, float(other) * self.d)\n",
        "\n",
        "    __rmul__ = __mul__  # https://docs.python.org/3/reference/datamodel.html#object.__mul__\n",
        "    __radd__ = __add__  # https://docs.python.org/3/reference/datamodel.html#object.__radd__\n",
        "\n",
        "\n",
        "def diff(func: Callable[[float], float]) -> Callable[[float], float]:\n",
        "    return lambda x: func(Dual(x, 1.0)).d"
      ]
    },
    {
      "cell_type": "markdown",
      "metadata": {
        "id": "XQOuIqXV5qzK"
      },
      "source": [
        "Поддерживаются две операции - сложение и умножение. Применить можно так:"
      ]
    },
    {
      "cell_type": "code",
      "execution_count": null,
      "metadata": {
        "colab": {
          "base_uri": "https://localhost:8080/"
        },
        "id": "Giba706J5qzL",
        "outputId": "f98e27fc-0f07-4a8a-f6dd-982af50f8056"
      },
      "outputs": [
        {
          "output_type": "execute_result",
          "data": {
            "text/plain": [
              "22.0"
            ]
          },
          "metadata": {},
          "execution_count": 2
        }
      ],
      "source": [
        "# Функция, которую будем дифференцировать\n",
        "def f(x: float) -> float:\n",
        "    return 5 * x * x + 2 * x + 2\n",
        "\n",
        "f_diff = diff(f)\n",
        "\n",
        "# значение производной в точке x = 2\n",
        "f_diff(2)"
      ]
    },
    {
      "cell_type": "markdown",
      "metadata": {
        "id": "dVbwD7yk5qzM"
      },
      "source": [
        "## Задание 1.1 (5 баллов)\n",
        "\n",
        "Какие недостатки вы видите в данной реализации? Реализуйте поддержку (полностью самостоятельно или модифицируя приведенный код):\n",
        "- [унарных операций](https://docs.python.org/3/reference/datamodel.html#object.__neg__)\n",
        "- деления\n",
        "- возведения в степень\n",
        "\n",
        "Каким образом можно проверить корректность решения?  Реализуйте достаточный, по вашему мнению, набор тестов."
      ]
    },
    {
      "cell_type": "code",
      "execution_count": 6,
      "metadata": {
        "id": "10v0BM3H5qzM",
        "colab": {
          "base_uri": "https://localhost:8080/",
          "height": 331
        },
        "outputId": "b3cf2d06-7235-47b3-e03b-d3a802b7a2b2"
      },
      "outputs": [
        {
          "output_type": "error",
          "ename": "AssertionError",
          "evalue": "ignored",
          "traceback": [
            "\u001b[0;31m---------------------------------------------------------------------------\u001b[0m",
            "\u001b[0;31mAssertionError\u001b[0m                            Traceback (most recent call last)",
            "\u001b[0;32m<ipython-input-6-c3b56caf9453>\u001b[0m in \u001b[0;36m<cell line: 34>\u001b[0;34m()\u001b[0m\n\u001b[1;32m     32\u001b[0m \u001b[0;34m\u001b[0m\u001b[0m\n\u001b[1;32m     33\u001b[0m \u001b[0;34m\u001b[0m\u001b[0m\n\u001b[0;32m---> 34\u001b[0;31m \u001b[0mtest_operations\u001b[0m\u001b[0;34m(\u001b[0m\u001b[0;34m)\u001b[0m\u001b[0;34m\u001b[0m\u001b[0;34m\u001b[0m\u001b[0m\n\u001b[0m",
            "\u001b[0;32m<ipython-input-6-c3b56caf9453>\u001b[0m in \u001b[0;36mtest_operations\u001b[0;34m()\u001b[0m\n\u001b[1;32m     29\u001b[0m     \u001b[0;32massert\u001b[0m \u001b[0mpower\u001b[0m\u001b[0;34m(\u001b[0m\u001b[0;36m2\u001b[0m\u001b[0;34m,\u001b[0m \u001b[0;36m3\u001b[0m\u001b[0;34m)\u001b[0m \u001b[0;34m==\u001b[0m \u001b[0;36m8\u001b[0m\u001b[0;34m\u001b[0m\u001b[0;34m\u001b[0m\u001b[0m\n\u001b[1;32m     30\u001b[0m     \u001b[0;32massert\u001b[0m \u001b[0mdivide\u001b[0m\u001b[0;34m(\u001b[0m\u001b[0;36m4\u001b[0m\u001b[0;34m,\u001b[0m \u001b[0;36m2\u001b[0m\u001b[0;34m)\u001b[0m \u001b[0;34m==\u001b[0m \u001b[0;36m2\u001b[0m\u001b[0;34m\u001b[0m\u001b[0;34m\u001b[0m\u001b[0m\n\u001b[0;32m---> 31\u001b[0;31m     \u001b[0;32massert\u001b[0m \u001b[0mdivide\u001b[0m\u001b[0;34m(\u001b[0m\u001b[0;36m1\u001b[0m\u001b[0;34m,\u001b[0m \u001b[0;36m0\u001b[0m\u001b[0;34m)\u001b[0m \u001b[0;34m==\u001b[0m \u001b[0mValueError\u001b[0m\u001b[0;34m(\u001b[0m\u001b[0;34m\"Cannot divide by zero\"\u001b[0m\u001b[0;34m)\u001b[0m\u001b[0;34m\u001b[0m\u001b[0;34m\u001b[0m\u001b[0m\n\u001b[0m\u001b[1;32m     32\u001b[0m \u001b[0;34m\u001b[0m\u001b[0m\n\u001b[1;32m     33\u001b[0m \u001b[0;34m\u001b[0m\u001b[0m\n",
            "\u001b[0;31mAssertionError\u001b[0m: "
          ]
        }
      ],
      "source": [
        "# ваш код\n",
        "#Недостаток: поддержка конструкции match...case начиная с версии python 3.10\n",
        "\n",
        "def add_one(n):\n",
        "    return n + 1\n",
        "\n",
        "\n",
        "def subtract_one(n):\n",
        "    return n - 1\n",
        "\n",
        "\n",
        "def power(x, n):\n",
        "    if n == 0:\n",
        "        return 1\n",
        "    else:\n",
        "        return x * power(x, n-1)\n",
        "\n",
        "\n",
        "def divide(x, y):\n",
        "    if y == 0:\n",
        "        raise ValueError(\"Cannot divide by zero\")\n",
        "    else:\n",
        "        return x / y\n",
        "\n",
        "\n",
        "def test_operations():\n",
        "    assert add_one(1) == 2\n",
        "    assert subtract_one(2) == 1\n",
        "    assert power(2, 3) == 8\n",
        "    assert divide(4, 2) == 2\n",
        "    assert divide(1, 0) == ValueError(\"Cannot divide by zero\")\n",
        "\n",
        "\n",
        "test_operations()"
      ]
    },
    {
      "cell_type": "markdown",
      "metadata": {
        "id": "B5kFiEWo5qzM"
      },
      "source": [
        "## Задание 1.2 (7 баллов)\n",
        "Придумайте способ и реализуйте поддержку функций:\n",
        "- `exp()`\n",
        "- `cos()`\n",
        "- `sin()`\n",
        "- `log()`\n",
        "\n",
        "Добавьте соответствующие тесты"
      ]
    },
    {
      "cell_type": "code",
      "execution_count": null,
      "metadata": {
        "colab": {
          "base_uri": "https://localhost:8080/"
        },
        "id": "3CmHLsf75qzM",
        "outputId": "078b81ee-ce0c-40fc-c8c6-4cdd1f15c183"
      },
      "outputs": [
        {
          "output_type": "stream",
          "name": "stdout",
          "text": [
            "2.7182818284590455\n",
            "1.0\n",
            "0.0\n",
            "0.04239535920745795\n"
          ]
        }
      ],
      "source": [
        "# ваш код\n",
        "import math\n",
        "\n",
        "def fact(n):\n",
        "    if n == 0:\n",
        "        return 1\n",
        "    else:\n",
        "        return n * fact(n-1)\n",
        "\n",
        "def exp_series(x, terms):\n",
        "    return sum(x**n / fact(n) for n in range(terms))\n",
        "\n",
        "def cos_series(x, terms):\n",
        "    return sum((-1)**n * x**(2*n) / fact(2*n) for n in range(terms))\n",
        "\n",
        "def sin_series(x, terms):\n",
        "    return sum((-1)**n * x**(2*n + 1) / fact(2*n + 1) for n in range(terms))\n",
        "\n",
        "def log_series(x, terms):\n",
        "    return sum((-1)**n * x**(-n-1) / (n-1) for n in range(2, terms+2))\n",
        "\n",
        "# Example usage\n",
        "print(exp_series(1, 100))\n",
        "print(cos_series(0, 100))\n",
        "print(sin_series(0, 100))\n",
        "print(log_series(math.e, 100))\n"
      ]
    },
    {
      "cell_type": "markdown",
      "metadata": {
        "id": "o6NB9QbX5qzM"
      },
      "source": [
        "## Задание 1.3 (3 балла)\n",
        "\n",
        "Воспользуйтесь методами **численного** дифференцирования для \"проверки\" работы кода на нескольких примерах. Например,  библиотеке `scipy` есть функция `derivative`. Или реализуйте какой-нибудь метод численного дифференцирования самостоятельно (**+5 баллов**)"
      ]
    },
    {
      "cell_type": "code",
      "execution_count": null,
      "metadata": {
        "colab": {
          "base_uri": "https://localhost:8080/"
        },
        "id": "pCLzvR1o5qzN",
        "outputId": "a06966fb-076a-416a-83a4-0c1fc94c2592"
      },
      "outputs": [
        {
          "output_type": "stream",
          "name": "stderr",
          "text": [
            "<ipython-input-11-c0f6ae60c6a3>:6: DeprecationWarning: scipy.misc.derivative is deprecated in SciPy v1.10.0; and will be completely removed in SciPy v1.12.0. You may consider using findiff: https://github.com/maroba/findiff or numdifftools: https://github.com/pbrod/numdifftools\n",
            "  derivative(f, 2.)\n"
          ]
        },
        {
          "output_type": "execute_result",
          "data": {
            "text/plain": [
              "22.0"
            ]
          },
          "metadata": {},
          "execution_count": 11
        }
      ],
      "source": [
        "from scipy.misc import derivative\n",
        "\n",
        "def f(x: float) -> float:\n",
        "    return 5 * x * x + 2 * x + 2\n",
        "\n",
        "derivative(f, 2.)"
      ]
    },
    {
      "cell_type": "code",
      "execution_count": null,
      "metadata": {
        "id": "ywzu3g0I5qzN"
      },
      "outputs": [],
      "source": [
        "import numpy as np\n",
        "\n",
        "def central_difference(f, x, h=1e-5):\n",
        "    return (f(x + h) - f(x - h)) / (2 * h)\n",
        "\n",
        "# Теперь, мы можем использовать эту функцию для проверки работы исходной функции\n",
        "x = np.linspace(-np.pi, np.pi, 1000)\n",
        "y = func(x)\n",
        "\n",
        "# Взятие производной первого порядка с шагом h = 1e-5\n",
        "dfdx = central_difference(f, x)"
      ]
    },
    {
      "cell_type": "markdown",
      "metadata": {
        "id": "VpyRy_QL5qzN"
      },
      "source": [
        "## Задание 1.4 (10 баллов)\n",
        "\n",
        "Необходимо разработать систему автоматического тестирования алгоритма дифференцирования в следующем виде:\n",
        "- реализовать механизм генерации \"случайных функций\" (например, что-то вроде такого: $f(x) = x + 5 * x - \\cos(20 * \\log(12 - 20 * x * x )) - 20 * x$ )\n",
        "- сгенерировать достаточно большое число функций и сравнить результаты символьного и численного дифференцирования в случайных точках"
      ]
    },
    {
      "cell_type": "markdown",
      "metadata": {
        "id": "itLzO3uB5qzN"
      },
      "source": [
        "Генерацию случайных функций можно осуществить, например, двумя путями.\n",
        "1. Генерировать функцию в текстовом виде, зачем использовать встроенную функцию [eval](https://docs.python.org/3/library/functions.html#eval)\n",
        "\n",
        "```python\n",
        "func = eval(\"lambda x: 2 * x + 5\")\n",
        "assert func(42) == 89\n",
        "```\n",
        "\n",
        "2. Использовать стандартный модуль [ast](https://docs.python.org/3/library/ast.html), который позволяет во время выполнения программы манипулировать [Абстрактным Синтаксическим Деревом](https://ru.wikipedia.org/wiki/%D0%90%D0%B1%D1%81%D1%82%D1%80%D0%B0%D0%BA%D1%82%D0%BD%D0%BE%D0%B5_%D1%81%D0%B8%D0%BD%D1%82%D0%B0%D0%BA%D1%81%D0%B8%D1%87%D0%B5%D1%81%D0%BA%D0%BE%D0%B5_%D0%B4%D0%B5%D1%80%D0%B5%D0%B2%D0%BE).\n",
        "Например, выражение\n",
        "\n",
        "```python\n",
        "func = lambda x: 2 * x + 5\n",
        "```\n",
        "\n",
        "Можно запрограммировать с помощью кода:\n",
        "\n",
        "```python\n",
        "\n",
        "expr = ast.Expression(\n",
        "    body=ast.Lambda(\n",
        "        args=ast.arguments(\n",
        "            args=[\n",
        "                ast.arg(arg='x')\n",
        "            ],\n",
        "            posonlyargs=[],\n",
        "            kwonlyargs=[],\n",
        "            kw_defaults=[],\n",
        "            defaults=[]\n",
        "        ),\n",
        "        body=ast.BinOp(\n",
        "            left=ast.BinOp(\n",
        "                left=ast.Constant(value=2),\n",
        "                op=ast.Mult(),\n",
        "                right=ast.Name(id='x', ctx=ast.Load())\n",
        "            ),\n",
        "            op=ast.Add(),\n",
        "            right=ast.Constant(value=5)\n",
        "        )\n",
        "    )\n",
        ")\n",
        "\n",
        "ast.fix_missing_locations(expr)\n",
        "\n",
        "func = eval(compile(expr, filename=\"\", mode=\"eval\"))\n",
        "\n",
        "assert func(42) == 89\n",
        "```\n",
        "\n",
        "При реализации нужно учитывать области допустимых значений функций."
      ]
    },
    {
      "cell_type": "code",
      "execution_count": null,
      "metadata": {
        "id": "S6mIi90x5qzO"
      },
      "outputs": [],
      "source": [
        "# ваш код"
      ]
    },
    {
      "cell_type": "markdown",
      "metadata": {
        "id": "7aGpq4EH5qzO"
      },
      "source": [
        "## Задание 1.5 (7 баллов)\n",
        "\n",
        "Реализуйте поддержку функций нескольких аргументов. Например\n",
        "\n",
        "```python\n",
        "def f(x: float, y: float, z: float) -> float:\n",
        "    return x * y + z - 5 * y  \n",
        "\n",
        "\n",
        "f_diff = diff(f)\n",
        "\n",
        "f_diff(10, 10, 10) # = [10, 5, 1]\n",
        "```"
      ]
    },
    {
      "cell_type": "code",
      "source": [
        "\n",
        "def f_2V(x: float, y: float) -> float:\n",
        "    return 3*x*x - 2*y*y*y\n",
        "\n",
        "def f_3V(x: float, y: float, z: float) -> float:\n",
        "    return x * y + z - 5 * y\n",
        "\n",
        "f_2V_diff = Dual.diff_2V(f_2V)\n",
        "f_3V_diff = Dual.diff_3V(f_3V)\n",
        "x = 10\n",
        "y = 10\n",
        "z = 10\n",
        "print(f_2V_diff(1.5, 3.28))\n",
        "f_3V_diff(x, y, z)"
      ],
      "metadata": {
        "id": "tBF446tEZXoG"
      },
      "execution_count": null,
      "outputs": []
    }
  ],
  "metadata": {
    "kernelspec": {
      "display_name": "Python 3.10.4 64-bit",
      "language": "python",
      "name": "python3"
    },
    "language_info": {
      "codemirror_mode": {
        "name": "ipython",
        "version": 3
      },
      "file_extension": ".py",
      "mimetype": "text/x-python",
      "name": "python",
      "nbconvert_exporter": "python",
      "pygments_lexer": "ipython3",
      "version": "3.10.6"
    },
    "orig_nbformat": 4,
    "vscode": {
      "interpreter": {
        "hash": "916dbcbb3f70747c44a77c7bcd40155683ae19c65e1c03b4aa3499c5328201f1"
      }
    },
    "colab": {
      "provenance": [],
      "toc_visible": true,
      "include_colab_link": true
    }
  },
  "nbformat": 4,
  "nbformat_minor": 0
}